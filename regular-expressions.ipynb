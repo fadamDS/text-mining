{
 "cells": [
  {
   "cell_type": "markdown",
   "metadata": {
    "ein.tags": "worksheet-0",
    "slideshow": {
     "slide_type": "-"
    }
   },
   "source": [
    "# Intro to Regular Expressions"
   ]
  },
  {
   "cell_type": "markdown",
   "metadata": {
    "ein.tags": "worksheet-0",
    "slideshow": {
     "slide_type": "-"
    }
   },
   "source": [
    "It's a language to describe patterns in text. \n",
    "\n",
    "Regular expressions are implemented in every major programming language.\n",
    "\n",
    "They may differ slightly between languages, but are largely the same. "
   ]
  },
  {
   "cell_type": "markdown",
   "metadata": {
    "ein.tags": "worksheet-0",
    "slideshow": {
     "slide_type": "-"
    }
   },
   "source": [
    "In Python we use regular expressions through the \"re\" package. \n",
    "\n",
    "For our purposes, we will focus on the \"search\" function, which provides basic \"global\" pattern matching on a string, determining whether or not the pattern is matched and returning the location of the match if it exists. "
   ]
  },
  {
   "cell_type": "code",
   "execution_count": 2,
   "metadata": {
    "autoscroll": false,
    "ein.hycell": false,
    "ein.tags": "worksheet-0",
    "slideshow": {
     "slide_type": "-"
    }
   },
   "outputs": [],
   "source": [
    "from re import search"
   ]
  },
  {
   "cell_type": "code",
   "execution_count": 7,
   "metadata": {
    "autoscroll": false,
    "ein.hycell": false,
    "ein.tags": "worksheet-0",
    "slideshow": {
     "slide_type": "-"
    }
   },
   "outputs": [],
   "source": [
    "# Basic letters and numbers are valid regular expressions\n",
    "\n",
    "assert(search(r'cat', 'a cat went home') != None)"
   ]
  },
  {
   "cell_type": "code",
   "execution_count": 8,
   "metadata": {
    "autoscroll": false,
    "ein.hycell": false,
    "ein.tags": "worksheet-0",
    "slideshow": {
     "slide_type": "-"
    }
   },
   "outputs": [],
   "source": [
    "cassert(search(r'cat', 'a dog went home') == None)"
   ]
  },
  {
   "cell_type": "code",
   "execution_count": 9,
   "metadata": {
    "autoscroll": false,
    "ein.hycell": false,
    "ein.tags": "worksheet-0",
    "slideshow": {
     "slide_type": "-"
    }
   },
   "outputs": [],
   "source": [
    "# You can include \"optional\" letters by following the letter with \n",
    "# a question mark: \n",
    "\n",
    "assert(search(r'cats?', 'a cat went home') != None)\n",
    "assert(search(r'cats?', 'cats went home') != None)"
   ]
  },
  {
   "cell_type": "code",
   "execution_count": 17,
   "metadata": {
    "autoscroll": false,
    "ein.hycell": false,
    "ein.tags": "worksheet-0",
    "slideshow": {
     "slide_type": "-"
    }
   },
   "outputs": [],
   "source": [
    "# You can include a search for \"one or more\" with the +\n",
    "# For example, let's assume we want only to match an \n",
    "# exclamation of \"cat\" that ends with one or more\n",
    "# exclamation points: \n",
    "\n",
    "assert(search(r'cats?!+', 'a cat went home') == None)\n",
    "assert(search(r'cats?!+', 'a cat!') != None)\n",
    "assert(search(r'cats?!+', 'a cat!!!') != None)"
   ]
  },
  {
   "cell_type": "code",
   "execution_count": 21,
   "metadata": {
    "autoscroll": false,
    "ein.hycell": false,
    "ein.tags": "worksheet-0",
    "slideshow": {
     "slide_type": "-"
    }
   },
   "outputs": [],
   "source": [
    "# Note that our example isn't only matching the\n",
    "# word \"cat\":\n",
    "\n",
    "assert(search(r'cat', 'a category') != None)"
   ]
  },
  {
   "cell_type": "code",
   "execution_count": 24,
   "metadata": {
    "autoscroll": false,
    "ein.hycell": false,
    "ein.tags": "worksheet-0",
    "slideshow": {
     "slide_type": "-"
    }
   },
   "outputs": [],
   "source": [
    "# We can build up a pattern of characters and spaces\n",
    "# A great character for \"space\" is given by the \\s\n",
    "# expression. Backslashes in regular expressions\n",
    "# denote \"special characters\", such as \\s:\n",
    "\n",
    "assert(search(r'\\scat\\s', 'a category') == None)\n",
    "assert(search(r'\\scat\\s', 'a cat went home') != None)"
   ]
  },
  {
   "cell_type": "code",
   "execution_count": 28,
   "metadata": {
    "autoscroll": false,
    "ein.hycell": false,
    "ein.tags": "worksheet-0",
    "slideshow": {
     "slide_type": "-"
    }
   },
   "outputs": [],
   "source": [
    "# But now our expression doesn't match the following: \n",
    "\n",
    "assert(search(r'\\scat\\s', 'a cat') == None)\n",
    "assert(search(r'\\scat\\s', 'a cat.') == None)\n",
    "assert(search(r'\\scat\\s', 'cat') == None)\n",
    "\n",
    "# which seems problematic"
   ]
  },
  {
   "cell_type": "code",
   "execution_count": 65,
   "metadata": {
    "autoscroll": false,
    "ein.hycell": false,
    "ein.tags": "worksheet-0",
    "slideshow": {
     "slide_type": "-"
    }
   },
   "outputs": [],
   "source": [
    "# There is another special character, \\b, \n",
    "# which is very powerful for this common scenario: \n",
    "\n",
    "assert(search(r'\\bcat\\b', 'a cat') != None)\n",
    "assert(search(r'\\bcat\\b', 'a cat.') != None)\n",
    "assert(search(r'\\bcat\\b', 'cat') != None)\n",
    "assert(search(r'\\bcat\\b', 'a cat went home') != None)"
   ]
  },
  {
   "cell_type": "code",
   "execution_count": 73,
   "metadata": {
    "autoscroll": false,
    "ein.hycell": false,
    "ein.tags": "worksheet-0",
    "slideshow": {
     "slide_type": "-"
    }
   },
   "outputs": [],
   "source": [
    "# Another useful special character is the \\w\n",
    "# character. It matches any \"word character\" which \n",
    "# refers to, basically, letters, numbers and underscores\n",
    "# This can be used, for example, to find hashtags: \n",
    "\n",
    "assert(search(r'#\\w+', 'a #cat') != None)\n",
    "assert(search(r'#\\w+', 'a #@home') == None)\n",
    "assert(search(r'#\\w+', 'a #') == None)"
   ]
  },
  {
   "cell_type": "code",
   "execution_count": 74,
   "metadata": {
    "autoscroll": false,
    "ein.hycell": false,
    "ein.tags": "worksheet-0",
    "slideshow": {
     "slide_type": "-"
    }
   },
   "outputs": [],
   "source": [
    "# We can also negate things using ^. For example, we might be\n",
    "# interested in anything that's NOT a space character:\n",
    "# Note: when negating, you must surround the negated part\n",
    "# with square brackets []\n",
    "\n",
    "assert(search(r'#[^\\s]+', 'a #cat') != None)\n",
    "assert(search(r'#[^\\s]+', 'a #c@t') != None)\n",
    "assert(search(r'#[^\\s]+', 'a #@home') != None)"
   ]
  },
  {
   "cell_type": "code",
   "execution_count": 13,
   "metadata": {
    "autoscroll": false,
    "ein.hycell": false,
    "ein.tags": "worksheet-0",
    "slideshow": {
     "slide_type": "-"
    }
   },
   "outputs": [],
   "source": [
    "# You can use a logical or with \"|\"\n",
    "\n",
    "assert(search('cat|dog', 'a dog went home') != None)\n",
    "assert(search('cat|dog', 'a cat went home') != None)"
   ]
  }
 ],
 "metadata": {
  "kernelspec": {
   "display_name": "Python 3",
   "language": "python",
   "name": "python3"
  },
  "language_info": {
   "codemirror_mode": {
    "name": "ipython",
    "version": 3
   },
   "file_extension": ".py",
   "mimetype": "text/x-python",
   "name": "python",
   "nbconvert_exporter": "python",
   "pygments_lexer": "ipython3",
   "version": "3.6.8"
  },
  "name": "regular-expressions.ipynb",
  "varInspector": {
   "cols": {
    "lenName": 16,
    "lenType": 16,
    "lenVar": 40
   },
   "kernels_config": {
    "python": {
     "delete_cmd_postfix": "",
     "delete_cmd_prefix": "del ",
     "library": "var_list.py",
     "varRefreshCmd": "print(var_dic_list())"
    },
    "r": {
     "delete_cmd_postfix": ") ",
     "delete_cmd_prefix": "rm(",
     "library": "var_list.r",
     "varRefreshCmd": "cat(var_dic_list()) "
    }
   },
   "types_to_exclude": [
    "module",
    "function",
    "builtin_function_or_method",
    "instance",
    "_Feature"
   ],
   "window_display": false
  }
 },
 "nbformat": 4,
 "nbformat_minor": 2
}
