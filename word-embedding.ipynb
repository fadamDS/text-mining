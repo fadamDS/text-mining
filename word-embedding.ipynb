{
 "cells": [
  {
   "cell_type": "code",
   "execution_count": null,
   "metadata": {
    "autoscroll": false,
    "ein.tags": "worksheet-0",
    "slideshow": {
     "slide_type": "-"
    }
   },
   "outputs": [],
   "source": [
    "! pip install mxnet"
   ]
  },
  {
   "cell_type": "code",
   "execution_count": 8,
   "metadata": {
    "autoscroll": false,
    "ein.tags": "worksheet-0",
    "slideshow": {
     "slide_type": "-"
    }
   },
   "outputs": [],
   "source": [
    "import warnings\n",
    "warnings.filterwarnings('ignore')"
   ]
  },
  {
   "cell_type": "code",
   "execution_count": 32,
   "metadata": {
    "autoscroll": false,
    "ein.tags": "worksheet-0",
    "slideshow": {
     "slide_type": "-"
    }
   },
   "outputs": [],
   "source": [
    "import pandas as pd\n",
    "import mxnet as mx\n",
    "from mxnet import nd, autograd, gluon\n",
    "from mxnet.gluon import Block, nn, rnn, Trainer\n",
    "from mxnet.gluon.parameter import Parameter"
   ]
  },
  {
   "cell_type": "code",
   "execution_count": 11,
   "metadata": {
    "autoscroll": false,
    "ein.tags": "worksheet-0",
    "slideshow": {
     "slide_type": "-"
    }
   },
   "outputs": [],
   "source": [
    "def relu(X):\n",
    "    return nd.maximum(X, nd.zeros_like(X))\n",
    "\n",
    "def SGD(params, lr):\n",
    "    for param in params:\n",
    "        param[:] = param - lr * param.grad\n",
    "\n",
    "def logistic(z):\n",
    "    return 1. / (1. + nd.exp(-z))\n",
    "\n",
    "def log_loss(output, y):\n",
    "    yhat = logistic(output)\n",
    "    return  - nd.nansum(  y * nd.log(yhat) + (1-y) * nd.log(1-yhat))\n",
    "\n",
    "def cross_entropy(output, y):\n",
    "    yhat = logistic(output)\n",
    "    return - nd.nansum(y * nd.log(yhat), axis=0, exclude=True)"
   ]
  },
  {
   "cell_type": "code",
   "execution_count": 92,
   "metadata": {
    "autoscroll": false,
    "ein.tags": "worksheet-0",
    "slideshow": {
     "slide_type": "-"
    }
   },
   "outputs": [],
   "source": [
    "mx.random.seed(7)\n",
    "\n",
    "migrant = [1,0,0,0]\n",
    "bigot = [0,1,0,0]\n",
    "love = [0,0,1,0]\n",
    "hate = [0,0,0,1]\n",
    "\n",
    "docs = nd.array([\n",
    "    [love, migrant],\n",
    "    [hate, migrant] ,\n",
    "    [love, bigot],\n",
    "    [hate, bigot]\n",
    "])\n",
    "\n",
    "y = nd.array([1,0,0,1])\n",
    "\n",
    "def xavier(x, i, o):\n",
    "    return math.sqrt(3./(.5*(i+o)))\n",
    "\n",
    "W1 = nd.random_normal(shape=(4,2))\n",
    "b1 = nd.array([0])\n",
    "\n",
    "W2 = nd.random_normal(shape=(2,2))\n",
    "b2 = nd.random_normal(shape=2)\n",
    "\n",
    "W3 = nd.random_normal(shape=2)\n",
    "b3 = nd.random_normal(shape=1)\n",
    "\n",
    "params = [W1, b1, W2, b2, W3, b3]\n",
    "\n",
    "for param in params:\n",
    "    param.attach_grad()\n",
    "\n",
    "def net(inputs):\n",
    "    mem = nd.zeros(shape=2)\n",
    "    first, second = inputs\n",
    "    mem = nd.dot(first, W1) + b1\n",
    "    final = nd.dot(second, W1) + b1\n",
    "    h1 = relu(mem + final)\n",
    "    h2 = relu(nd.dot(h1, W2) + b1)\n",
    "    yhat_linear = nd.dot(h1, W3) + b3\n",
    "    return yhat_linear"
   ]
  },
  {
   "cell_type": "code",
   "execution_count": 93,
   "metadata": {
    "autoscroll": false,
    "ein.tags": "worksheet-0",
    "slideshow": {
     "slide_type": "-"
    }
   },
   "outputs": [
    {
     "name": "stdout",
     "output_type": "stream",
     "text": [
      "Loss: 0.205363826826\n"
     ]
    }
   ],
   "source": [
    "mx.random.seed(1)\n",
    "from random import shuffle \n",
    "dat = list(zip(docs, y))\n",
    "\n",
    "def train(epochs, learning_rate, loss_fn = log_loss):\n",
    "    for e in range(epochs):\n",
    "        cumulative_loss = 0\n",
    "        # shuffle(dat)\n",
    "        for i, (data, label) in enumerate(dat):\n",
    "            with autograd.record():\n",
    "                output = net(data)\n",
    "                loss = loss_fn(output, label)\n",
    "                loss.backward()\n",
    "            SGD(params, learning_rate)\n",
    "            cumulative_loss += nd.sum(loss).asscalar()\n",
    "    print(\"Loss: %s\" % cumulative_loss)\n",
    "\n",
    "train(1000, .01, log_loss)"
   ]
  },
  {
   "cell_type": "code",
   "execution_count": 96,
   "metadata": {
    "autoscroll": false,
    "ein.tags": "worksheet-0",
    "slideshow": {
     "slide_type": "-"
    }
   },
   "outputs": [
    {
     "name": "stdout",
     "output_type": "stream",
     "text": [
      "\n",
      "[ 0.92139786]\n",
      "<NDArray 1 @cpu(0)>\n",
      "\n",
      "[ 0.0211373]\n",
      "<NDArray 1 @cpu(0)>\n",
      "\n",
      "[ 0.01947443]\n",
      "<NDArray 1 @cpu(0)>\n",
      "\n",
      "[ 0.92139786]\n",
      "<NDArray 1 @cpu(0)>\n"
     ]
    }
   ],
   "source": [
    "for i in range(4):\n",
    "    print(logistic(net(docs[i])))"
   ]
  },
  {
   "cell_type": "code",
   "execution_count": 99,
   "metadata": {
    "autoscroll": false,
    "ein.tags": "worksheet-0",
    "slideshow": {
     "slide_type": "-"
    }
   },
   "outputs": [
    {
     "data": {
      "text/plain": [
       "\n",
       "[[ 1.12406003 -1.47985768]\n",
       " [-1.34351015  1.1494199 ]\n",
       " [-0.19955443  2.40315962]\n",
       " [ 2.26388025 -0.22831535]]\n",
       "<NDArray 4x2 @cpu(0)>"
      ]
     },
     "execution_count": 99,
     "metadata": {},
     "output_type": "execute_result"
    }
   ],
   "source": [
    "params[0]"
   ]
  },
  {
   "cell_type": "code",
   "execution_count": 98,
   "metadata": {
    "autoscroll": false,
    "ein.tags": "worksheet-0",
    "slideshow": {
     "slide_type": "-"
    }
   },
   "outputs": [
    {
     "data": {
      "text/plain": [
       "\n",
       "[[ 1.12406003 -1.47985768]\n",
       " [-0.19955443  2.40315962]]\n",
       "<NDArray 2x2 @cpu(0)>"
      ]
     },
     "execution_count": 98,
     "metadata": {},
     "output_type": "execute_result"
    }
   ],
   "source": [
    "nd.dot(docs[0], params[0])"
   ]
  },
  {
   "cell_type": "code",
   "execution_count": 100,
   "metadata": {
    "autoscroll": false,
    "ein.tags": "worksheet-0",
    "slideshow": {
     "slide_type": "-"
    }
   },
   "outputs": [
    {
     "data": {
      "text/plain": [
       "\n",
       "[[-1.34351015  1.1494199 ]\n",
       " [-0.19955443  2.40315962]]\n",
       "<NDArray 2x2 @cpu(0)>"
      ]
     },
     "execution_count": 100,
     "metadata": {},
     "output_type": "execute_result"
    }
   ],
   "source": [
    "nd.dot(docs[1], params[0])"
   ]
  },
  {
   "cell_type": "code",
   "execution_count": 101,
   "metadata": {
    "autoscroll": false,
    "ein.tags": "worksheet-0",
    "slideshow": {
     "slide_type": "-"
    }
   },
   "outputs": [
    {
     "data": {
      "text/plain": [
       "\n",
       "[[ 1.12406003 -1.47985768]\n",
       " [ 2.26388025 -0.22831535]]\n",
       "<NDArray 2x2 @cpu(0)>"
      ]
     },
     "execution_count": 101,
     "metadata": {},
     "output_type": "execute_result"
    }
   ],
   "source": [
    "nd.dot(docs[2], params[0])"
   ]
  },
  {
   "cell_type": "code",
   "execution_count": 103,
   "metadata": {
    "autoscroll": false,
    "ein.tags": "worksheet-0",
    "slideshow": {
     "slide_type": "-"
    }
   },
   "outputs": [
    {
     "data": {
      "text/plain": [
       "\n",
       "[[-1.34351015  1.1494199 ]\n",
       " [ 2.26388025 -0.22831535]]\n",
       "<NDArray 2x2 @cpu(0)>"
      ]
     },
     "execution_count": 103,
     "metadata": {},
     "output_type": "execute_result"
    }
   ],
   "source": [
    "nd.dot(docs[3], params[0])"
   ]
  }
 ],
 "metadata": {
  "kernelspec": {
   "display_name": "Python 3",
   "language": "python",
   "name": "python3"
  },
  "language_info": {
   "codemirror_mode": {
    "name": "ipython",
    "version": 3
   },
   "file_extension": ".py",
   "mimetype": "text/x-python",
   "name": "python",
   "nbconvert_exporter": "python",
   "pygments_lexer": "ipython3",
   "version": "3.6.8"
  },
  "name": "word-embedding.ipynb",
  "varInspector": {
   "cols": {
    "lenName": 16,
    "lenType": 16,
    "lenVar": 40
   },
   "kernels_config": {
    "python": {
     "delete_cmd_postfix": "",
     "delete_cmd_prefix": "del ",
     "library": "var_list.py",
     "varRefreshCmd": "print(var_dic_list())"
    },
    "r": {
     "delete_cmd_postfix": ") ",
     "delete_cmd_prefix": "rm(",
     "library": "var_list.r",
     "varRefreshCmd": "cat(var_dic_list()) "
    }
   },
   "types_to_exclude": [
    "module",
    "function",
    "builtin_function_or_method",
    "instance",
    "_Feature"
   ],
   "window_display": false
  }
 },
 "nbformat": 4,
 "nbformat_minor": 2
}
